{
 "cells": [
  {
   "cell_type": "code",
   "execution_count": null,
   "id": "87047b90-3532-4959-a920-dc4e1fdfc39e",
   "metadata": {},
   "outputs": [],
   "source": [
    "import tensorflow as tf\n"
   ]
  }
 ],
 "metadata": {
  "kernelspec": {
   "display_name": "",
   "name": ""
  },
  "language_info": {
   "name": ""
  }
 },
 "nbformat": 4,
 "nbformat_minor": 5
}
